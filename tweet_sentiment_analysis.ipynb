{
 "cells": [
  {
   "cell_type": "code",
   "execution_count": 1,
   "metadata": {},
   "outputs": [],
   "source": [
    "from nltk.stem.wordnet import WordNetLemmatizer\n",
    "from nltk.corpus import stopwords\n",
    "from nltk.tag import pos_tag\n",
    "from nltk.tokenize import word_tokenize\n",
    "from nltk import FreqDist, classify, NaiveBayesClassifier, DecisionTreeClassifier\n",
    "import pandas as pd\n",
    "import numpy as np\n",
    "from nltk.tokenize import TweetTokenizer\n",
    "\n",
    "import nltk.classify\n",
    "import sklearn.svm\n",
    "from sklearn.svm import LinearSVC\n"
   ]
  },
  {
   "cell_type": "code",
   "execution_count": 2,
   "metadata": {},
   "outputs": [],
   "source": [
    "def read_train():\n",
    "    train=pd.read_csv(\"./tweet-sentiment-extraction/train.csv\")\n",
    "    train['text']=train['text'].astype(str)\n",
    "    train['selected_text']=train['selected_text'].astype(str)\n",
    "    return train\n",
    "\n",
    "def read_test():\n",
    "    test=pd.read_csv(\"./tweet-sentiment-extraction/test.csv\")\n",
    "    test['text']=test['text'].astype(str)\n",
    "    return test\n",
    "\n",
    "def read_submission():\n",
    "    test=pd.read_csv(\"./tweet-sentiment-extraction/sample_submission.csv\")\n",
    "    return test\n",
    "    \n",
    "train_df = read_train()\n",
    "test_df = read_test()\n",
    "submission_df = read_submission()"
   ]
  },
  {
   "cell_type": "code",
   "execution_count": 3,
   "metadata": {},
   "outputs": [],
   "source": [
    "import re, string, random\n",
    "\n",
    "def remove_noise(tokens, stop_words = ()):\n",
    "\n",
    "    cleaned_tokens = []\n",
    "\n",
    "    for token, tag in pos_tag(tokens):\n",
    "        token = re.sub('http[s]?://(?:[a-zA-Z]|[0-9]|[$-_@.&+#]|[!*\\(\\),]|'\\\n",
    "                       '(?:%[0-9a-fA-F][0-9a-fA-F]))+','', token)\n",
    "        token = re.sub(\"(@[A-Za-z0-9_]+)\",\"\", token)\n",
    "\n",
    "        if tag.startswith(\"NN\"):\n",
    "            pos = 'n'\n",
    "        elif tag.startswith('VB'):\n",
    "            pos = 'v'\n",
    "        else:\n",
    "            pos = 'a'\n",
    "\n",
    "        lemmatizer = WordNetLemmatizer()\n",
    "        token = lemmatizer.lemmatize(token, pos)\n",
    "\n",
    "        if len(token) > 0 and token not in string.punctuation and token.lower() not in stop_words:\n",
    "            cleaned_tokens.append(token.lower())\n",
    "    return cleaned_tokens\n",
    "\n",
    "def get_all_words(cleaned_tokens_list):\n",
    "    for tokens in cleaned_tokens_list:\n",
    "        for token in tokens:\n",
    "            yield token\n",
    "\n",
    "def get_tweets_for_model(cleaned_tokens_list):\n",
    "    for tweet_tokens in cleaned_tokens_list:\n",
    "        yield dict([token, True] for token in tweet_tokens)"
   ]
  },
  {
   "cell_type": "code",
   "execution_count": 4,
   "metadata": {},
   "outputs": [],
   "source": [
    "#train_df[['text', 'sentiment']]\n",
    "positive_tweets = []\n",
    "negative_tweets = []\n",
    "neutral_tweets = []\n",
    "\n",
    "positive_test_tweets = []\n",
    "negative_test_tweets = []\n",
    "neutral_test_tweets = []\n",
    "\n",
    "\n",
    "def extract_texts(df, sentiment, tweets_table):\n",
    "    for index, row in df.iterrows():\n",
    "        if(row['sentiment'] == sentiment):\n",
    "            tweets_table.append(row['text'])\n",
    "\n",
    "        \n",
    "extract_texts(train_df, 'positive', positive_tweets)\n",
    "extract_texts(train_df, 'negative', negative_tweets)\n",
    "extract_texts(train_df, 'neutral', neutral_tweets)\n",
    "\n",
    "extract_texts(test_df, 'positive', positive_test_tweets)\n",
    "extract_texts(test_df, 'negative', negative_test_tweets)\n",
    "extract_texts(test_df, 'neutral', neutral_test_tweets)\n",
    "\n",
    "\n",
    "#!!!!!!!!!!\n",
    "\n",
    "#positive_tweets = positive_tweets + positive_test_tweets\n",
    "#negative_tweets = negative_tweets + negative_test_tweets\n",
    "#neutral_tweets = neutral_tweets + neutral_test_tweets\n",
    "\n",
    "#!!!!!!!!!\n",
    "        \n",
    "    "
   ]
  },
  {
   "cell_type": "code",
   "execution_count": 5,
   "metadata": {},
   "outputs": [
    {
     "name": "stdout",
     "output_type": "stream",
     "text": [
      "11118\n"
     ]
    }
   ],
   "source": [
    "print(len(neutral_tweets))\n"
   ]
  },
  {
   "cell_type": "code",
   "execution_count": 6,
   "metadata": {},
   "outputs": [],
   "source": [
    "\n",
    "    tknzr = TweetTokenizer()\n",
    "    stop_words = stopwords.words('english')\n",
    "    \n",
    "    def tokenize_array(array, result):\n",
    "        for f in array:\n",
    "            result.append(tknzr.tokenize(f))\n",
    "    \n",
    "\n",
    "    positive_tweet_tokens = []\n",
    "    negative_tweet_tokens = []\n",
    "    neutral_tweet_tokens = []\n",
    "    \n",
    "    positive_test_tweet_tokens = []\n",
    "    negative_test_tweet_tokens = []\n",
    "    neutral_test_tweet_tokens = []\n",
    "    \n",
    "    tokenize_array(positive_tweets, positive_tweet_tokens)\n",
    "    tokenize_array(negative_tweets, negative_tweet_tokens)\n",
    "    tokenize_array(neutral_tweets, neutral_tweet_tokens)\n",
    "    \n",
    "    tokenize_array(positive_test_tweets, positive_test_tweet_tokens)\n",
    "    tokenize_array(negative_test_tweets, negative_test_tweet_tokens)\n",
    "    tokenize_array(neutral_test_tweets, neutral_test_tweet_tokens)"
   ]
  },
  {
   "cell_type": "code",
   "execution_count": 7,
   "metadata": {},
   "outputs": [
    {
     "name": "stdout",
     "output_type": "stream",
     "text": [
      "[('...', 1370), ('day', 1345), ('good', 1284), ('love', 1012), ('happy', 865), ('get', 739), ('go', 636), ('thanks', 559), ('mother', 533), ('..', 508)]\n"
     ]
    }
   ],
   "source": [
    "    positive_cleaned_tokens_list = []\n",
    "    negative_cleaned_tokens_list = []\n",
    "    neutral_cleaned_tokens_list = []\n",
    "    \n",
    "    positive_cleaned_test_tokens_list = []\n",
    "    negative_cleaned_test_tokens_list = []\n",
    "    neutral_cleaned_test_tokens_list = []\n",
    "\n",
    "\n",
    "    for tokens in positive_tweet_tokens:\n",
    "        positive_cleaned_tokens_list.append(remove_noise(tokens, stop_words))\n",
    "\n",
    "    for tokens in negative_tweet_tokens:\n",
    "        negative_cleaned_tokens_list.append(remove_noise(tokens, stop_words))\n",
    "        \n",
    "    for tokens in neutral_tweet_tokens:\n",
    "        neutral_cleaned_tokens_list.append(remove_noise(tokens, stop_words))\n",
    "        \n",
    "        \n",
    "    for tokens in positive_test_tweet_tokens:\n",
    "        positive_cleaned_test_tokens_list.append(remove_noise(tokens, stop_words))\n",
    "\n",
    "    for tokens in negative_test_tweet_tokens:\n",
    "        negative_cleaned_test_tokens_list.append(remove_noise(tokens, stop_words))\n",
    "        \n",
    "    for tokens in neutral_test_tweet_tokens:\n",
    "        neutral_cleaned_test_tokens_list.append(remove_noise(tokens, stop_words))\n",
    "\n",
    "    pos_words = get_all_words(positive_cleaned_tokens_list)\n",
    "    neg_words = get_all_words(negative_cleaned_tokens_list)\n",
    "    net_words = get_all_words(neutral_cleaned_tokens_list)\n",
    "    \n",
    "    pos_test_words = get_all_words(positive_cleaned_test_tokens_list)\n",
    "    neg_test_words = get_all_words(negative_cleaned_test_tokens_list)\n",
    "    net_test_words = get_all_words(neutral_cleaned_test_tokens_list)\n",
    "\n",
    "\n",
    "    freq_dist_pos = FreqDist(pos_words)\n",
    "    print(freq_dist_pos.most_common(10))"
   ]
  },
  {
   "cell_type": "code",
   "execution_count": null,
   "metadata": {},
   "outputs": [],
   "source": []
  },
  {
   "cell_type": "code",
   "execution_count": 8,
   "metadata": {},
   "outputs": [],
   "source": [
    "    positive_tokens_for_model = get_tweets_for_model(positive_cleaned_tokens_list)\n",
    "    negative_tokens_for_model = get_tweets_for_model(negative_cleaned_tokens_list)\n",
    "    neutral_tokens_for_model = get_tweets_for_model(neutral_cleaned_tokens_list)\n",
    "\n",
    "    positive_tokens_for_test = get_tweets_for_model(positive_cleaned_test_tokens_list)\n",
    "    negative_tokens_for_test = get_tweets_for_model(negative_cleaned_test_tokens_list)\n",
    "    neutral_tokens_for_test = get_tweets_for_model(neutral_cleaned_test_tokens_list)\n",
    "\n",
    "    positive_dataset = [(tweet_dict, \"Positive\")\n",
    "                         for tweet_dict in positive_tokens_for_model]\n",
    "\n",
    "    negative_dataset = [(tweet_dict, \"Negative\")\n",
    "                         for tweet_dict in negative_tokens_for_model]\n",
    "    \n",
    "    neutral_dataset = [(tweet_dict, \"Neutral\")\n",
    "                         for tweet_dict in neutral_tokens_for_model]\n",
    "\n",
    "    dataset = positive_dataset + negative_dataset + neutral_dataset#!!!!!!!!!!!!!!!!!!!!!!!!!!\n",
    "    \n",
    "    \n",
    "    \n",
    "    positive_test_dataset = [(tweet_dict, \"Positive\")\n",
    "                         for tweet_dict in positive_tokens_for_test]\n",
    "\n",
    "    negative_test_dataset = [(tweet_dict, \"Negative\")\n",
    "                         for tweet_dict in negative_tokens_for_test]\n",
    "    \n",
    "    neutral_test_dataset = [(tweet_dict, \"Neutral\")\n",
    "                         for tweet_dict in neutral_tokens_for_test]\n",
    "\n",
    "    train_data = positive_dataset + negative_dataset + neutral_dataset\n",
    "    \n",
    "    test_data = positive_test_dataset + negative_test_dataset + neutral_test_dataset\n",
    "    "
   ]
  },
  {
   "cell_type": "code",
   "execution_count": 9,
   "metadata": {},
   "outputs": [
    {
     "name": "stdout",
     "output_type": "stream",
     "text": [
      "27481\n"
     ]
    }
   ],
   "source": [
    "print(len(train_data))"
   ]
  },
  {
   "cell_type": "code",
   "execution_count": 10,
   "metadata": {},
   "outputs": [
    {
     "name": "stdout",
     "output_type": "stream",
     "text": [
      "Accuracy classifierNaiveBayes is: 0.6445953593661573\n",
      "Accuracy classifierLinearSVC is: 0.677985285795133\n"
     ]
    }
   ],
   "source": [
    "    from nltk.classify.scikitlearn import SklearnClassifier\n",
    "\n",
    "\n",
    "    classifierNaiveBayes = NaiveBayesClassifier.train(train_data)\n",
    "    \n",
    "    #classifierDecisionTree = DecisionTreeClassifier.train(train_data)\n",
    "\n",
    "    classifierLinearSVC = SklearnClassifier(LinearSVC()).train(train_data)\n",
    "\n",
    "\n",
    "\n",
    "    print(\"Accuracy classifierNaiveBayes is:\", classify.accuracy(classifierNaiveBayes, test_data))\n",
    "    \n",
    "    #print(\"Accuracy classifierDecisionTree is:\", classify.accuracy(classifierDecisionTree, test_data))\n",
    "\n",
    "    print(\"Accuracy classifierLinearSVC is:\", classify.accuracy(classifierLinearSVC, test_data))\n"
   ]
  },
  {
   "cell_type": "code",
   "execution_count": null,
   "metadata": {},
   "outputs": [],
   "source": []
  },
  {
   "cell_type": "code",
   "execution_count": 11,
   "metadata": {},
   "outputs": [],
   "source": [
    "#from nltk.classify.scikitlearn import SklearnClassifier\n",
    "#from sklearn.naive_bayes import MultinomialNB,BernoulliNB\n",
    "\n",
    "\n",
    "#MNB_classifier = SklearnClassifier(MultinomialNB())\n",
    "#MNB_classifier.train(train_data)\n",
    "#print(\"MultinomialNB accuracy percent:\",nltk.classify.accuracy(MNB_classifier, test_data))\n",
    "\n",
    "#BNB_classifier = SklearnClassifier(BernoulliNB())\n",
    "#BNB_classifier.train(train_data)\n",
    "#print(\"BernoulliNB accuracy percent:\",nltk.classify.accuracy(BNB_classifier, test_data))"
   ]
  },
  {
   "cell_type": "code",
   "execution_count": 12,
   "metadata": {},
   "outputs": [
    {
     "name": "stdout",
     "output_type": "stream",
     "text": [
      "Naive Bayes Algorithm accuracy percent: 64.45953593661574\n",
      "Most Informative Features\n",
      "                     sad = True           Negati : Positi =     66.6 : 1.0\n",
      "                 welcome = True           Positi : Negati =     60.7 : 1.0\n",
      "                   thank = True           Positi : Negati =     50.1 : 1.0\n",
      "                 mothers = True           Positi : Negati =     47.0 : 1.0\n",
      "                    bore = True           Negati : Positi =     46.1 : 1.0\n",
      "               wonderful = True           Positi : Negati =     43.8 : 1.0\n",
      "               hopefully = True           Positi : Negati =     40.8 : 1.0\n",
      "                    hate = True           Negati : Positi =     38.5 : 1.0\n",
      "                 awesome = True           Positi : Negati =     38.3 : 1.0\n",
      "                    wars = True           Positi : Negati =     35.4 : 1.0\n",
      "                   sadly = True           Negati : Positi =     34.2 : 1.0\n",
      "                    suck = True           Negati : Positi =     33.2 : 1.0\n",
      "                  boring = True           Negati : Positi =     30.5 : 1.0\n",
      "                 jealous = True           Negati : Positi =     27.6 : 1.0\n",
      "                horrible = True           Negati : Positi =     27.6 : 1.0\n",
      "MNB_classifier accuracy percent: 66.18562535370684\n",
      "BernoulliNB_classifier accuracy percent: 64.45953593661574\n"
     ]
    },
    {
     "name": "stderr",
     "output_type": "stream",
     "text": [
      "C:\\APPS\\ANACONDA\\lib\\site-packages\\sklearn\\linear_model\\_logistic.py:940: ConvergenceWarning: lbfgs failed to converge (status=1):\n",
      "STOP: TOTAL NO. of ITERATIONS REACHED LIMIT.\n",
      "\n",
      "Increase the number of iterations (max_iter) or scale the data as shown in:\n",
      "    https://scikit-learn.org/stable/modules/preprocessing.html\n",
      "Please also refer to the documentation for alternative solver options:\n",
      "    https://scikit-learn.org/stable/modules/linear_model.html#logistic-regression\n",
      "  extra_warning_msg=_LOGISTIC_SOLVER_CONVERGENCE_MSG)\n"
     ]
    },
    {
     "name": "stdout",
     "output_type": "stream",
     "text": [
      "LogisticRegression_classifier accuracy percent: 70.17543859649122\n",
      "SGDClassifier_classifier accuracy percent: 71.30730050933785\n",
      "SVC_classifier accuracy percent: 70.6847764572722\n",
      "LinearSVC_classifier accuracy percent: 67.79852857951329\n",
      "NuSVC_classifier accuracy percent: 71.44878324844369\n"
     ]
    }
   ],
   "source": [
    "from sklearn.linear_model import LogisticRegression,SGDClassifier\n",
    "from sklearn.svm import SVC, LinearSVC, NuSVC\n",
    "from nltk.classify.scikitlearn import SklearnClassifier\n",
    "from sklearn.naive_bayes import MultinomialNB,BernoulliNB\n",
    "\n",
    "print(\"Naive Bayes Algorithm accuracy percent:\", (nltk.classify.accuracy(classifierNaiveBayes, test_data))*100)\n",
    "classifierNaiveBayes.show_most_informative_features(15)\n",
    "\n",
    "MNB_classifier = SklearnClassifier(MultinomialNB())\n",
    "MNB_classifier.train(train_data)\n",
    "print(\"MNB_classifier accuracy percent:\", (nltk.classify.accuracy(MNB_classifier, test_data))*100)\n",
    "\n",
    "BernoulliNB_classifier = SklearnClassifier(BernoulliNB())\n",
    "BernoulliNB_classifier.train(train_data)\n",
    "print(\"BernoulliNB_classifier accuracy percent:\", (nltk.classify.accuracy(BernoulliNB_classifier, test_data))*100)\n",
    "\n",
    "LogisticRegression_classifier = SklearnClassifier(LogisticRegression())\n",
    "LogisticRegression_classifier.train(train_data)\n",
    "print(\"LogisticRegression_classifier accuracy percent:\", (nltk.classify.accuracy(LogisticRegression_classifier, test_data))*100)\n",
    "\n",
    "SGDClassifier_classifier = SklearnClassifier(SGDClassifier())\n",
    "SGDClassifier_classifier.train(train_data)\n",
    "print(\"SGDClassifier_classifier accuracy percent:\", (nltk.classify.accuracy(SGDClassifier_classifier, test_data))*100)\n",
    "\n",
    "SVC_classifier = SklearnClassifier(SVC())\n",
    "SVC_classifier.train(train_data)\n",
    "print(\"SVC_classifier accuracy percent:\", (nltk.classify.accuracy(SVC_classifier, test_data))*100)\n",
    "\n",
    "LinearSVC_classifier = SklearnClassifier(LinearSVC())\n",
    "LinearSVC_classifier.train(train_data)\n",
    "print(\"LinearSVC_classifier accuracy percent:\", (nltk.classify.accuracy(LinearSVC_classifier, test_data))*100)\n",
    "\n",
    "NuSVC_classifier = SklearnClassifier(NuSVC())\n",
    "NuSVC_classifier.train(train_data)\n",
    "print(\"NuSVC_classifier accuracy percent:\", (nltk.classify.accuracy(NuSVC_classifier, test_data))*100)"
   ]
  },
  {
   "cell_type": "code",
   "execution_count": null,
   "metadata": {},
   "outputs": [],
   "source": []
  },
  {
   "cell_type": "code",
   "execution_count": null,
   "metadata": {},
   "outputs": [],
   "source": []
  },
  {
   "cell_type": "code",
   "execution_count": null,
   "metadata": {},
   "outputs": [],
   "source": []
  },
  {
   "cell_type": "code",
   "execution_count": null,
   "metadata": {},
   "outputs": [],
   "source": []
  },
  {
   "cell_type": "code",
   "execution_count": null,
   "metadata": {},
   "outputs": [],
   "source": []
  }
 ],
 "metadata": {
  "kernelspec": {
   "display_name": "Python 3",
   "language": "python",
   "name": "python3"
  },
  "language_info": {
   "codemirror_mode": {
    "name": "ipython",
    "version": 3
   },
   "file_extension": ".py",
   "mimetype": "text/x-python",
   "name": "python",
   "nbconvert_exporter": "python",
   "pygments_lexer": "ipython3",
   "version": "3.7.6"
  }
 },
 "nbformat": 4,
 "nbformat_minor": 4
}
